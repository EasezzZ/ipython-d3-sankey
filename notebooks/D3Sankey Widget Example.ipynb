{
 "cells": [
  {
   "cell_type": "markdown",
   "metadata": {},
   "source": [
    "# D3Sankey Widget"
   ]
  },
  {
   "cell_type": "markdown",
   "metadata": {},
   "source": [
    "> <i class=\"fa fa-info-circle fa-2x text-primary\"></i> Execute each of these cells in order, such as with <label class=\"label label-default\">Shift+Enter</label>"
   ]
  },
  {
   "cell_type": "markdown",
   "metadata": {},
   "source": [
    "First, load `D3Sankey`:"
   ]
  },
  {
   "cell_type": "code",
   "execution_count": null,
   "metadata": {
    "collapsed": false
   },
   "outputs": [],
   "source": [
    "from ipythond3sankey.widgets import D3Sankey"
   ]
  },
  {
   "cell_type": "markdown",
   "metadata": {},
   "source": [
    "Then, create an instance of `D3Sankey`:"
   ]
  },
  {
   "cell_type": "code",
   "execution_count": null,
   "metadata": {
    "collapsed": false
   },
   "outputs": [],
   "source": [
    "d3sankeyExample = D3Sankey(\n",
    "    nodes = [\n",
    "        {'name': 'A'},\n",
    "        {'name': 'B'},\n",
    "        {'name': 'C'},\n",
    "    ],\n",
    "    links = [\n",
    "        {'source': 0, 'target': 1, 'value': 2},\n",
    "        {'source': 0, 'target': 2, 'value': 3},\n",
    "    ],\n",
    "    height = 300,\n",
    "    width = 600\n",
    ")"
   ]
  },
  {
   "cell_type": "markdown",
   "metadata": {},
   "source": [
    "Display the widget:"
   ]
  },
  {
   "cell_type": "code",
   "execution_count": null,
   "metadata": {
    "collapsed": false
   },
   "outputs": [],
   "source": [
    "d3sankeyExample"
   ]
  },
  {
   "cell_type": "markdown",
   "metadata": {},
   "source": [
    "> <i class=\"fa fa-image fa-2x\"></i> You should see a Sankey diagram with 3 nodes and 2 flows."
   ]
  },
  {
   "cell_type": "markdown",
   "metadata": {},
   "source": [
    "Now, you can update the `nodes` and `links`:"
   ]
  },
  {
   "cell_type": "code",
   "execution_count": null,
   "metadata": {
    "collapsed": false
   },
   "outputs": [],
   "source": [
    "d3sankeyExample.nodes[0]['name'] = 'Node A'\n",
    "d3sankeyExample.send_state()"
   ]
  },
  {
   "cell_type": "markdown",
   "metadata": {},
   "source": [
    "> <i class=\"fa fa-image fa-2x\"></i> You should see the label of the left-hand node change."
   ]
  },
  {
   "cell_type": "code",
   "execution_count": null,
   "metadata": {
    "collapsed": true
   },
   "outputs": [],
   "source": [
    "d3sankeyExample.nodes.append({'name': 'D'})\n",
    "d3sankeyExample.links.append({'source': 3, 'target': 1, 'value': 1})\n",
    "d3sankeyExample.send_state()"
   ]
  },
  {
   "cell_type": "markdown",
   "metadata": {},
   "source": [
    "> <i class=\"fa fa-image fa-2x\"></i> You should see a new node and link appear"
   ]
  },
  {
   "cell_type": "markdown",
   "metadata": {},
   "source": [
    "Node that `send_state()` is required when changing the *contents* of `nodes` and `links`. Changing properties directly automatically updates the diagram (although currently the only other properties are the dimensions and margins, which are not updated onces the diagram has been created)."
   ]
  }
 ],
 "metadata": {
  "kernelspec": {
   "display_name": "Python 3",
   "language": "python",
   "name": "python3"
  },
  "language_info": {
   "codemirror_mode": {
    "name": "ipython",
    "version": 3
   },
   "file_extension": ".py",
   "mimetype": "text/x-python",
   "name": "python",
   "nbconvert_exporter": "python",
   "pygments_lexer": "ipython3",
   "version": "3.4.3"
  }
 },
 "nbformat": 4,
 "nbformat_minor": 0
}
