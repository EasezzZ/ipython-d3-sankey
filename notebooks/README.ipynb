{
 "cells": [
  {
   "cell_type": "markdown",
   "metadata": {},
   "source": [
    "# d3 Sankey\n",
    "an IPython widget for the [d3 Sankey plugin](http://bost.ocks.org/mike/sankey/)\n",
    "\n",
    "## Installation\n",
    "\n",
    "`pip install ipython-d3-sankey`\n",
    "\n",
    "## Usage\n",
    "\n",
    "See the example notebook."
   ]
  }
 ],
 "metadata": {
  "kernelspec": {
   "display_name": "Python 3",
   "language": "python",
   "name": "python3"
  },
  "language_info": {
   "codemirror_mode": {
    "name": "ipython",
    "version": 3
   },
   "file_extension": ".py",
   "mimetype": "text/x-python",
   "name": "python",
   "nbconvert_exporter": "python",
   "pygments_lexer": "ipython3",
   "version": "3.4.3"
  }
 },
 "nbformat": 4,
 "nbformat_minor": 0
}
